{
 "cells": [
  {
   "cell_type": "code",
   "execution_count": 1,
   "metadata": {
    "colab": {
     "background_save": true,
     "base_uri": "https://localhost:8080/"
    },
    "id": "xrr21ja_U8k1",
    "outputId": "5a97ae17-a59e-4c3e-9ccf-c211f00beb10"
   },
   "outputs": [
    {
     "name": "stdout",
     "output_type": "stream",
     "text": [
      "Requirement already satisfied: deap in c:\\users\\pc\\anaconda3\\lib\\site-packages (1.4.1)\n",
      "Requirement already satisfied: numpy in c:\\users\\pc\\anaconda3\\lib\\site-packages (from deap) (1.24.4)\n",
      "Note: you may need to restart the kernel to use updated packages.\n"
     ]
    }
   ],
   "source": [
    "pip install deap "
   ]
  },
  {
   "cell_type": "markdown",
   "metadata": {},
   "source": [
    "## `Import the necessary libraries`"
   ]
  },
  {
   "cell_type": "code",
   "execution_count": 30,
   "metadata": {
    "colab": {
     "background_save": true
    },
    "id": "b76WPIPsVWSw"
   },
   "outputs": [],
   "source": [
    "from deap import base, creator, tools, algorithms\n",
    "import random\n",
    "import re\n",
    "import pandas as pd\n",
    "import numpy as np\n",
    "from sklearn.preprocessing import StandardScaler, LabelEncoder\n",
    "from sklearn.metrics import jaccard_score\n",
    "from deap import creator, base, tools, algorithms\n",
    "import time\n",
    "from datetime import timedelta\n",
    "import matplotlib.pyplot as plt"
   ]
  },
  {
   "cell_type": "markdown",
   "metadata": {},
   "source": [
    "## `Import the dataset`"
   ]
  },
  {
   "cell_type": "code",
   "execution_count": 3,
   "metadata": {
    "id": "4LEKRHnwVdka"
   },
   "outputs": [],
   "source": [
    "# Load the dataset\n",
    "df = pd.read_csv(\"books.csv\")"
   ]
  },
  {
   "cell_type": "markdown",
   "metadata": {
    "id": "vrV9Uf-Ozqp6"
   },
   "source": [
    "### Data dictionary\n",
    "\n",
    "1. **bookID**: Unique identifier for each book.\n",
    "2. **title**: Title of the book.\n",
    "3. **authors**: Authors of the book.\n",
    "4. **average_rating**: Average rating of the book.\n",
    "5. **isbn**: International Standard Book Number (ISBN) of the book.\n",
    "6. **isbn13**: 13-digit ISBN of the book.\n",
    "7. **language_code**: Language code of the book.\n",
    "8. **num_pages**: Number of pages in the book.\n",
    "9. **ratings_count**: Total number of ratings for the book.\n",
    "10. **text_reviews_count**: Total number of text reviews for the book.\n",
    "11. **publication_date**: Date of publication of the book.\n",
    "12. **publisher**: Publisher of the book.\n",
    "13. **language_encoded**: Encoded language code for the book."
   ]
  },
  {
   "cell_type": "code",
   "execution_count": 4,
   "metadata": {
    "colab": {
     "base_uri": "https://localhost:8080/",
     "height": 764
    },
    "id": "Ip1gbD0VWBtI",
    "outputId": "06c75b4e-99d7-4591-f991-f0be52a1bf6c"
   },
   "outputs": [
    {
     "data": {
      "text/html": [
       "<div>\n",
       "<style scoped>\n",
       "    .dataframe tbody tr th:only-of-type {\n",
       "        vertical-align: middle;\n",
       "    }\n",
       "\n",
       "    .dataframe tbody tr th {\n",
       "        vertical-align: top;\n",
       "    }\n",
       "\n",
       "    .dataframe thead th {\n",
       "        text-align: right;\n",
       "    }\n",
       "</style>\n",
       "<table border=\"1\" class=\"dataframe\">\n",
       "  <thead>\n",
       "    <tr style=\"text-align: right;\">\n",
       "      <th></th>\n",
       "      <th>bookID</th>\n",
       "      <th>title</th>\n",
       "      <th>authors</th>\n",
       "      <th>average_rating</th>\n",
       "      <th>isbn</th>\n",
       "      <th>isbn13</th>\n",
       "      <th>language_code</th>\n",
       "      <th>num_pages</th>\n",
       "      <th>ratings_count</th>\n",
       "      <th>text_reviews_count</th>\n",
       "      <th>publication_date</th>\n",
       "      <th>publisher</th>\n",
       "      <th>Unnamed: 12</th>\n",
       "    </tr>\n",
       "  </thead>\n",
       "  <tbody>\n",
       "    <tr>\n",
       "      <th>0</th>\n",
       "      <td>1</td>\n",
       "      <td>Harry Potter and the Half-Blood Prince (Harry ...</td>\n",
       "      <td>J.K. Rowling/Mary GrandPrÃ©</td>\n",
       "      <td>4.57</td>\n",
       "      <td>0439785960</td>\n",
       "      <td>9.78044E+12</td>\n",
       "      <td>eng</td>\n",
       "      <td>652</td>\n",
       "      <td>2095690</td>\n",
       "      <td>27591</td>\n",
       "      <td>9/16/2006</td>\n",
       "      <td>Scholastic Inc.</td>\n",
       "      <td>NaN</td>\n",
       "    </tr>\n",
       "    <tr>\n",
       "      <th>1</th>\n",
       "      <td>2</td>\n",
       "      <td>Harry Potter and the Order of the Phoenix (Har...</td>\n",
       "      <td>J.K. Rowling/Mary GrandPrÃ©</td>\n",
       "      <td>4.49</td>\n",
       "      <td>0439358078</td>\n",
       "      <td>9.78044E+12</td>\n",
       "      <td>eng</td>\n",
       "      <td>870</td>\n",
       "      <td>2153167</td>\n",
       "      <td>29221</td>\n",
       "      <td>9/1/2004</td>\n",
       "      <td>Scholastic Inc.</td>\n",
       "      <td>NaN</td>\n",
       "    </tr>\n",
       "    <tr>\n",
       "      <th>2</th>\n",
       "      <td>4</td>\n",
       "      <td>Harry Potter and the Chamber of Secrets (Harry...</td>\n",
       "      <td>J.K. Rowling</td>\n",
       "      <td>4.42</td>\n",
       "      <td>0439554896</td>\n",
       "      <td>9.78044E+12</td>\n",
       "      <td>eng</td>\n",
       "      <td>352</td>\n",
       "      <td>6333</td>\n",
       "      <td>244</td>\n",
       "      <td>11/1/2003</td>\n",
       "      <td>Scholastic</td>\n",
       "      <td>NaN</td>\n",
       "    </tr>\n",
       "    <tr>\n",
       "      <th>3</th>\n",
       "      <td>5</td>\n",
       "      <td>Harry Potter and the Prisoner of Azkaban (Harr...</td>\n",
       "      <td>J.K. Rowling/Mary GrandPrÃ©</td>\n",
       "      <td>4.56</td>\n",
       "      <td>043965548X</td>\n",
       "      <td>9.78044E+12</td>\n",
       "      <td>eng</td>\n",
       "      <td>435</td>\n",
       "      <td>2339585</td>\n",
       "      <td>36325</td>\n",
       "      <td>5/1/2004</td>\n",
       "      <td>Scholastic Inc.</td>\n",
       "      <td>NaN</td>\n",
       "    </tr>\n",
       "    <tr>\n",
       "      <th>4</th>\n",
       "      <td>8</td>\n",
       "      <td>Harry Potter Boxed Set  Books 1-5 (Harry Potte...</td>\n",
       "      <td>J.K. Rowling/Mary GrandPrÃ©</td>\n",
       "      <td>4.78</td>\n",
       "      <td>0439682584</td>\n",
       "      <td>9.78044E+12</td>\n",
       "      <td>eng</td>\n",
       "      <td>2690</td>\n",
       "      <td>41428</td>\n",
       "      <td>164</td>\n",
       "      <td>9/13/2004</td>\n",
       "      <td>Scholastic</td>\n",
       "      <td>NaN</td>\n",
       "    </tr>\n",
       "  </tbody>\n",
       "</table>\n",
       "</div>"
      ],
      "text/plain": [
       "   bookID                                              title  \\\n",
       "0       1  Harry Potter and the Half-Blood Prince (Harry ...   \n",
       "1       2  Harry Potter and the Order of the Phoenix (Har...   \n",
       "2       4  Harry Potter and the Chamber of Secrets (Harry...   \n",
       "3       5  Harry Potter and the Prisoner of Azkaban (Harr...   \n",
       "4       8  Harry Potter Boxed Set  Books 1-5 (Harry Potte...   \n",
       "\n",
       "                       authors average_rating        isbn       isbn13  \\\n",
       "0  J.K. Rowling/Mary GrandPrÃ©           4.57  0439785960  9.78044E+12   \n",
       "1  J.K. Rowling/Mary GrandPrÃ©           4.49  0439358078  9.78044E+12   \n",
       "2                 J.K. Rowling           4.42  0439554896  9.78044E+12   \n",
       "3  J.K. Rowling/Mary GrandPrÃ©           4.56  043965548X  9.78044E+12   \n",
       "4  J.K. Rowling/Mary GrandPrÃ©           4.78  0439682584  9.78044E+12   \n",
       "\n",
       "  language_code   num_pages  ratings_count  text_reviews_count  \\\n",
       "0           eng         652        2095690               27591   \n",
       "1           eng         870        2153167               29221   \n",
       "2           eng         352           6333                 244   \n",
       "3           eng         435        2339585               36325   \n",
       "4           eng        2690          41428                 164   \n",
       "\n",
       "  publication_date        publisher Unnamed: 12  \n",
       "0        9/16/2006  Scholastic Inc.         NaN  \n",
       "1         9/1/2004  Scholastic Inc.         NaN  \n",
       "2        11/1/2003       Scholastic         NaN  \n",
       "3         5/1/2004  Scholastic Inc.         NaN  \n",
       "4        9/13/2004       Scholastic         NaN  "
      ]
     },
     "execution_count": 4,
     "metadata": {},
     "output_type": "execute_result"
    }
   ],
   "source": [
    "df.head()"
   ]
  },
  {
   "cell_type": "code",
   "execution_count": 5,
   "metadata": {
    "colab": {
     "base_uri": "https://localhost:8080/"
    },
    "id": "EGbp9chrWMEu",
    "outputId": "5c9caf35-18e9-4d9a-b209-7cd1ddc016eb"
   },
   "outputs": [
    {
     "name": "stdout",
     "output_type": "stream",
     "text": [
      "<class 'pandas.core.frame.DataFrame'>\n",
      "RangeIndex: 11127 entries, 0 to 11126\n",
      "Data columns (total 13 columns):\n",
      " #   Column              Non-Null Count  Dtype \n",
      "---  ------              --------------  ----- \n",
      " 0   bookID              11127 non-null  int64 \n",
      " 1   title               11127 non-null  object\n",
      " 2   authors             11127 non-null  object\n",
      " 3   average_rating      11127 non-null  object\n",
      " 4   isbn                11127 non-null  object\n",
      " 5   isbn13              11127 non-null  object\n",
      " 6   language_code       11127 non-null  object\n",
      " 7     num_pages         11127 non-null  object\n",
      " 8   ratings_count       11127 non-null  int64 \n",
      " 9   text_reviews_count  11127 non-null  int64 \n",
      " 10  publication_date    11127 non-null  object\n",
      " 11  publisher           11127 non-null  object\n",
      " 12  Unnamed: 12         4 non-null      object\n",
      "dtypes: int64(3), object(10)\n",
      "memory usage: 1.1+ MB\n"
     ]
    }
   ],
   "source": [
    "df.info()"
   ]
  },
  {
   "cell_type": "markdown",
   "metadata": {
    "id": "5bfdL7t0lhLh"
   },
   "source": [
    "## `Data Cleaning`"
   ]
  },
  {
   "cell_type": "code",
   "execution_count": 6,
   "metadata": {
    "id": "0q-UjkkgWO47"
   },
   "outputs": [],
   "source": [
    "def clean_average_rating(value):\n",
    "    # Remove non-numeric characters\n",
    "    cleaned_value = re.sub(r'[^0-9.]', '', str(value))\n",
    "\n",
    "    # Handle special cases where cleaned_value is empty or contains only '.'\n",
    "    if cleaned_value and cleaned_value != '..' and cleaned_value != '.':\n",
    "        return int(float(cleaned_value))\n",
    "    else:\n",
    "        return None\n",
    "\n",
    "\n",
    "# Apply the cleaning function to the average rating column\n",
    "df['average_rating'] = df['average_rating'].apply(clean_average_rating)"
   ]
  },
  {
   "cell_type": "code",
   "execution_count": 7,
   "metadata": {
    "id": "HxtRaFe1WRz1"
   },
   "outputs": [],
   "source": [
    "df.rename({'  num_pages': 'num_pages'}, inplace = True, axis = 1)#rename columns"
   ]
  },
  {
   "cell_type": "code",
   "execution_count": 8,
   "metadata": {
    "id": "0PPsLALSWUUs"
   },
   "outputs": [],
   "source": [
    "def clean_average_rating(value):\n",
    "    # Remove non-numeric characters\n",
    "    cleaned_value = re.sub(r'[^0-9.]', '', str(value))\n",
    "\n",
    "    # Handle special cases where cleaned_value is empty or contains only '.' or '..'\n",
    "    if cleaned_value and cleaned_value != '.' and cleaned_value != '..':\n",
    "        return int(float(cleaned_value))\n",
    "    else:\n",
    "        return None\n",
    "\n",
    "# Apply the cleaning function to the 'num_pages' column\n",
    "df['num_pages'] = df['num_pages'].apply(clean_average_rating)\n",
    "\n",
    "# Convert the cleaned values to integers\n",
    "df['num_pages'] = df['num_pages'].astype(float).astype('Int64')"
   ]
  },
  {
   "cell_type": "code",
   "execution_count": 9,
   "metadata": {
    "id": "ef_i89JPWWZt"
   },
   "outputs": [],
   "source": [
    "df.drop('Unnamed: 12', axis = 1, inplace = True) #drop unnecessary columns"
   ]
  },
  {
   "cell_type": "code",
   "execution_count": 10,
   "metadata": {
    "id": "x_pbjC20WY8S"
   },
   "outputs": [],
   "source": [
    "df['average_rating'] = df['average_rating'].fillna(0) #fill null values with zero"
   ]
  },
  {
   "cell_type": "code",
   "execution_count": 11,
   "metadata": {
    "id": "ZidtOqqyWbZX"
   },
   "outputs": [],
   "source": [
    "df['num_pages'] = df['num_pages'].fillna(0) #fill null values with zero"
   ]
  },
  {
   "cell_type": "code",
   "execution_count": 12,
   "metadata": {
    "colab": {
     "base_uri": "https://localhost:8080/"
    },
    "id": "sUcaidMAWdys",
    "outputId": "0d1ce424-dd86-457d-8b19-2829fb60b396"
   },
   "outputs": [
    {
     "data": {
      "text/plain": [
       "0"
      ]
     },
     "execution_count": 12,
     "metadata": {},
     "output_type": "execute_result"
    }
   ],
   "source": [
    "df['average_rating'].isna().sum() #sum up all null values"
   ]
  },
  {
   "cell_type": "code",
   "execution_count": 13,
   "metadata": {
    "colab": {
     "base_uri": "https://localhost:8080/"
    },
    "id": "j-8LaiBHWf-e",
    "outputId": "f72fe6ba-52f2-4607-a24e-8ce9bd86229e"
   },
   "outputs": [
    {
     "data": {
      "text/plain": [
       "0"
      ]
     },
     "execution_count": 13,
     "metadata": {},
     "output_type": "execute_result"
    }
   ],
   "source": [
    "df['num_pages'].isna().sum() #sum up all null values"
   ]
  },
  {
   "cell_type": "code",
   "execution_count": 14,
   "metadata": {
    "colab": {
     "base_uri": "https://localhost:8080/"
    },
    "id": "iiu8wQA7WiSH",
    "outputId": "e67d6c9e-4926-4bec-d600-677700f917e0"
   },
   "outputs": [
    {
     "name": "stdout",
     "output_type": "stream",
     "text": [
      "<class 'pandas.core.frame.DataFrame'>\n",
      "RangeIndex: 11127 entries, 0 to 11126\n",
      "Data columns (total 12 columns):\n",
      " #   Column              Non-Null Count  Dtype  \n",
      "---  ------              --------------  -----  \n",
      " 0   bookID              11127 non-null  int64  \n",
      " 1   title               11127 non-null  object \n",
      " 2   authors             11127 non-null  object \n",
      " 3   average_rating      11127 non-null  float64\n",
      " 4   isbn                11127 non-null  object \n",
      " 5   isbn13              11127 non-null  object \n",
      " 6   language_code       11127 non-null  object \n",
      " 7   num_pages           11127 non-null  Int64  \n",
      " 8   ratings_count       11127 non-null  int64  \n",
      " 9   text_reviews_count  11127 non-null  int64  \n",
      " 10  publication_date    11127 non-null  object \n",
      " 11  publisher           11127 non-null  object \n",
      "dtypes: Int64(1), float64(1), int64(3), object(7)\n",
      "memory usage: 1.0+ MB\n"
     ]
    }
   ],
   "source": [
    "df.info() #Check the structure of the dataset"
   ]
  },
  {
   "cell_type": "markdown",
   "metadata": {},
   "source": [
    "## `Research Objectives`\n",
    "\n"
   ]
  },
  {
   "cell_type": "markdown",
   "metadata": {
    "id": "ZJQbthuvlcmT"
   },
   "source": [
    "## `Feature Engineering`"
   ]
  },
  {
   "cell_type": "code",
   "execution_count": 15,
   "metadata": {
    "colab": {
     "base_uri": "https://localhost:8080/"
    },
    "id": "QsS3X4HlWk6a",
    "outputId": "bd720411-3f8d-4a9d-90b8-e48b8f82bc94"
   },
   "outputs": [
    {
     "name": "stdout",
     "output_type": "stream",
     "text": [
      "Chromosome Length: 11127\n"
     ]
    }
   ],
   "source": [
    "# Encode categorical variables\n",
    "label_encoder = LabelEncoder()\n",
    "df['language_encoded'] = label_encoder.fit_transform(df['language_code'])\n",
    "\n",
    "# Normalize numerical features\n",
    "scaler = StandardScaler()\n",
    "numerical_features = ['average_rating', 'ratings_count', 'text_reviews_count']\n",
    "df[numerical_features] = scaler.fit_transform(df[numerical_features])\n",
    "\n",
    "# Define Chromosome Representation\n",
    "chromosome_length = len(df)  # Each book will be represented by its unique ID\n",
    "\n",
    "# Display the chromosome length\n",
    "print(\"Chromosome Length:\", chromosome_length)"
   ]
  },
  {
   "cell_type": "markdown",
   "metadata": {
    "id": "8PEQZLLvl1Go"
   },
   "source": [
    "# Genetic Algorithm\n",
    "\n",
    "### Target User Data\n",
    "The target user data $T$ encapsulates the preferences of the user and is used as a benchmark to evaluate the fitness of the recommendations generated by the GA. The target data is represented as a set comprising average attributes of books sampled from the dataset:\n",
    "\n",
    "$$\n",
    "T = \\{T_{\\text{authors}}, T_{\\text{avg_rating}}, T_{\\text{lang_code}}, T_{\\text{num_pages}}\\}\n",
    "$$\n",
    "where $T_{\\text{authors}}$ is a set of authors, indicating the user's preferred writers. $T_{\\text{avg_rating}}$ is a numeric value representing the average book rating that the user tends to favor. $T_{\\text{lang_code}}$ is the most common language code among the user's preferred books. Lastly, $T_{\\text{num_pages}}$ reflects the average number of pages, which aligns with the user's typical book length preference.\n",
    "\n",
    "### Individual Representation\n",
    "An individual within the GA population symbolizes a potential solution to the recommendation problem, represented as a vector of book IDs, $I$:\n",
    "$$\n",
    "I = \\{ id_1, id_2, \\ldots, id_n \\}\n",
    "$$\n",
    "Each ID corresponds to a specific book in the dataset, and $n$ denotes the size of the individual, indicating the number of book recommendations to be made.\n",
    "\n",
    "### Fitness Evaluation\n",
    "The fitness function $F$ is a composite measure that evaluates how closely an individual—i.e., a set of recommended books—matches the target user's data:\n",
    "$$\n",
    "F(I) = \\frac{1}{4}(J + (1 - A) + L + (1 - N))\n",
    "$$\n",
    "The function aims to maximize the overall similarity score by evaluating various aspects of the books, such as their authors, average ratings, language, and length.\n",
    "\n",
    "### Similarity Metrics\n",
    "\n",
    "#### Jaccard Similarity\n",
    "Jaccard similarity is a well-known metric used to compare the similarity and diversity of sample sets. Here, it measures the overlap between the authors in the user's target data and those in the individual's recommended books:\n",
    "$$\n",
    "J(A, B) = \\frac{|A \\cap B|}{|A \\cup B|}\n",
    "$$\n",
    "\n",
    "#### Average Rating Similarity\n",
    "This metric assesses how the average rating of the recommended books compares with the user's average book rating preference:\n",
    "$$\n",
    "A(I) = 1 - \\frac{ | R(I) - T_{\\text{avg_rating}} | }{ T_{\\text{avg_rating}} }\n",
    "$$\n",
    "The difference is subtracted from 1 to ensure that a higher score indicates a better match.\n",
    "\n",
    "#### Language Code Similarity\n",
    "This binary metric checks if the recommended books' languages match the user's most common language preference:\n",
    "$$\n",
    "L(I) =\n",
    "\\begin{cases}\n",
    "1 & \\text{if } T_{\\text{lang_code}} \\in L(I), \\\\\n",
    "0 & \\text{otherwise}.\n",
    "\\end{cases}\n",
    "$$\n",
    "\n",
    "#### Number of Pages Similarity\n",
    "Similar to average rating similarity, this metric evaluates how closely the length of the books (in terms of number of pages) aligns with the user's preference:\n",
    "$$\n",
    "N(I) = 1 - \\frac{ | P(I) - T_{\\text{num_pages}} | }{ T_{\\text{num_pages}} }\n",
    "$$\n",
    "\n",
    "### Genetic Algorithm Process\n",
    "The GA iteratively evolves a population of potential book recommendation sets over multiple generations. The process consists of initialization, where a random population of individuals is created, followed by an iterative loop of evaluation, selection, crossover, and mutation to evolve the population towards better solutions. The algorithm concludes either after a fixed number of generations or when a satisfactory fitness level is reached. The Hall of Fame ($\\text{hof}$) archives the best-performing individual from the entire run."
   ]
  },
  {
   "cell_type": "code",
   "execution_count": 35,
   "metadata": {
    "id": "RKKfxyAQWoCj"
   },
   "outputs": [],
   "source": [
    "target_books = df.sample(n=5500)\n",
    "target_user_data = {\n",
    "    \"authors\": set(target_books[\"authors\"].tolist()),\n",
    "    \"average_rating\": target_books[\"average_rating\"].mean(),\n",
    "    \"language_code\": target_books[\"language_code\"].mode().iloc[0],\n",
    "    \"num_pages\": target_books[\"num_pages\"].mean()\n",
    "}"
   ]
  },
  {
   "cell_type": "code",
   "execution_count": 36,
   "metadata": {
    "id": "45VN2FUtmEdB"
   },
   "outputs": [],
   "source": [
    "# Correction: Define the Jaccard similarity for sets\n",
    "def jaccard_similarity(set1, set2):\n",
    "    intersection = len(set1.intersection(set2))\n",
    "    union = len(set1.union(set2))\n",
    "    return intersection / union if union else 0\n",
    "\n",
    "# Correction in evaluate function to compute Jaccard similarity and other comparisons\n",
    "def evaluate(individual):\n",
    "    book_ids = individual\n",
    "    recommended_books_data = df[df['bookID'].isin(book_ids)]\n",
    "\n",
    "    if recommended_books_data.empty:\n",
    "        return 0,\n",
    "\n",
    "    target_authors_set = target_user_data['authors']\n",
    "    recommended_authors_set = set(recommended_books_data['authors'].tolist())\n",
    "    authors_jaccard = jaccard_similarity(target_authors_set, recommended_authors_set)\n",
    "\n",
    "    average_rating_similarity = abs(recommended_books_data['average_rating'].mean() - target_user_data['average_rating']) / target_user_data['average_rating']\n",
    "    language_similarity = 1 if target_user_data['language_code'] in recommended_books_data['language_code'].values else 0\n",
    "    num_pages_similarity = abs(recommended_books_data['num_pages'].mean() - target_user_data['num_pages']) / target_user_data['num_pages']\n",
    "\n",
    "    fitness = (authors_jaccard + (1 - average_rating_similarity) + language_similarity + (1 - num_pages_similarity)) / 4\n",
    "    return fitness,\n"
   ]
  },
  {
   "cell_type": "code",
   "execution_count": 37,
   "metadata": {
    "id": "6n5Qx1OVmMEA"
   },
   "outputs": [
    {
     "name": "stderr",
     "output_type": "stream",
     "text": [
      "C:\\Users\\PC\\anaconda3\\lib\\site-packages\\deap\\creator.py:185: RuntimeWarning: A class named 'FitnessMax' has already been created and it will be overwritten. Consider deleting previous creation of that class or rename it.\n",
      "  warnings.warn(\"A class named '{0}' has already been created and it \"\n",
      "C:\\Users\\PC\\anaconda3\\lib\\site-packages\\deap\\creator.py:185: RuntimeWarning: A class named 'Individual' has already been created and it will be overwritten. Consider deleting previous creation of that class or rename it.\n",
      "  warnings.warn(\"A class named '{0}' has already been created and it \"\n"
     ]
    }
   ],
   "source": [
    "creator.create(\"FitnessMax\", base.Fitness, weights=(1.0,))\n",
    "creator.create(\"Individual\", list, fitness=creator.FitnessMax)\n",
    "\n",
    "toolbox = base.Toolbox()\n",
    "toolbox.register(\"attr_item\", random.choice, df['bookID'].unique())\n",
    "toolbox.register(\"individual\", tools.initRepeat, creator.Individual, toolbox.attr_item, n=10)\n",
    "toolbox.register(\"population\", tools.initRepeat, list, toolbox.individual)\n",
    "toolbox.register(\"evaluate\", evaluate)\n",
    "toolbox.register(\"mate\", tools.cxTwoPoint)\n",
    "toolbox.register(\"mutate\", tools.mutUniformInt, low=0, up=len(df['bookID'].unique()), indpb=0.05)\n",
    "toolbox.register(\"select\", tools.selTournament, tournsize=3)\n"
   ]
  },
  {
   "cell_type": "code",
   "execution_count": 38,
   "metadata": {
    "colab": {
     "base_uri": "https://localhost:8080/",
     "height": 1000
    },
    "id": "GS1Hhy-QmSFu",
    "outputId": "84d77701-5e5a-47e0-b8ee-a1de3990b83f"
   },
   "outputs": [
    {
     "name": "stdout",
     "output_type": "stream",
     "text": [
      "gen\tnevals\tavg    \tstd    \tmin    \tmax    \n",
      "0  \t5500  \t5.83447\t3.87359\t1.28484\t27.7944\n",
      "1  \t4111  \t8.21229\t4.57184\t0.73706\t31.4631\n",
      "2  \t4191  \t10.3923\t5.15855\t0.766558\t38.9191\n",
      "3  \t4119  \t12.5784\t5.90658\t0.76811 \t50.0813\n",
      "4  \t4174  \t14.8402\t6.82324\t0.704502\t58.4358\n",
      "5  \t4175  \t17.4852\t8.39792\t0.754647\t61.204 \n",
      "6  \t4117  \t21.4008\t9.96447\t0.706262\t62.0161\n",
      "7  \t4165  \t28.2115\t11.1081\t0.77054 \t68.7049\n",
      "8  \t4158  \t36.9904\t11.1097\t0.781708\t84.7583\n",
      "9  \t4090  \t45.832 \t11.0347\t6.00907 \t95.6705\n",
      "10 \t4162  \t54.8681\t11.7182\t5.92508 \t106.921\n",
      "11 \t4126  \t64.5074\t12.2621\t16.593  \t121.94 \n",
      "12 \t4167  \t74.5155\t12.9288\t21.2691 \t128.266\n",
      "13 \t4188  \t85.2762\t13.0047\t41.4418 \t128.266\n",
      "14 \t4170  \t95.8873\t12.7043\t43.13   \t128.266\n",
      "15 \t4172  \t105.981\t11.5134\t53.8155 \t128.266\n",
      "16 \t4200  \t115.187\t10.056 \t67.7953 \t128.27 \n",
      "17 \t4184  \t122.718\t7.60011\t60.0186 \t128.27 \n",
      "18 \t4208  \t127.026\t4.08501\t90.967  \t128.27 \n",
      "19 \t4178  \t127.702\t3.40084\t72.3512 \t128.27 \n",
      "20 \t4270  \t127.748\t3.20253\t76.1498 \t128.27 \n",
      "21 \t4184  \t127.787\t3.21551\t84.7284 \t128.27 \n",
      "22 \t4178  \t127.622\t3.67361\t84.7846 \t128.27 \n",
      "23 \t4175  \t127.751\t3.18668\t78.6354 \t128.27 \n",
      "24 \t4179  \t127.804\t3.12344\t84.8153 \t128.27 \n",
      "25 \t4182  \t127.703\t3.39194\t85.7311 \t128.27 \n",
      "26 \t4149  \t127.781\t3.18605\t78.6288 \t128.27 \n",
      "27 \t4111  \t127.786\t3.1434 \t84.765  \t128.27 \n",
      "28 \t4089  \t127.719\t3.40338\t77.0622 \t128.27 \n",
      "29 \t4140  \t127.801\t3.048  \t78.6551 \t128.27 \n",
      "30 \t4162  \t127.784\t3.15352\t84.8498 \t128.27 \n",
      "31 \t4169  \t127.856\t2.85915\t78.5946 \t128.27 \n",
      "32 \t4241  \t127.778\t3.10154\t84.8552 \t128.27 \n",
      "33 \t4209  \t127.735\t3.24444\t91.0451 \t128.27 \n",
      "34 \t4204  \t127.783\t3.09959\t90.9547 \t128.27 \n",
      "35 \t4151  \t127.772\t3.19258\t84.8114 \t128.27 \n",
      "36 \t4192  \t127.772\t3.19823\t82.7591 \t128.27 \n",
      "37 \t4195  \t127.768\t3.21912\t72.4488 \t128.27 \n",
      "38 \t4243  \t127.703\t3.39423\t84.8082 \t128.27 \n",
      "39 \t4164  \t127.729\t3.23701\t86.8893 \t128.27 \n",
      "40 \t4194  \t127.752\t3.25217\t85.7356 \t128.27 \n",
      "41 \t4229  \t127.801\t3.20572\t64.4348 \t128.27 \n",
      "42 \t4160  \t127.844\t2.88703\t91.0393 \t128.27 \n",
      "43 \t4212  \t127.791\t3.0488 \t90.9919 \t128.27 \n",
      "44 \t4149  \t127.776\t3.06866\t90.9966 \t128.27 \n",
      "45 \t4157  \t127.913\t2.63587\t85.738  \t128.27 \n",
      "46 \t4226  \t127.792\t3.00471\t91.0572 \t128.27 \n",
      "47 \t4167  \t127.805\t3.08863\t80.3683 \t128.27 \n",
      "48 \t4148  \t127.75 \t3.20888\t91.02   \t128.27 \n",
      "49 \t4127  \t127.769\t3.14236\t84.8341 \t128.27 \n",
      "50 \t4214  \t127.787\t3.01868\t91.0104 \t128.27 \n",
      "51 \t4163  \t127.788\t3.07873\t91.0311 \t128.27 \n",
      "52 \t4232  \t127.751\t3.23813\t84.8223 \t128.27 \n",
      "53 \t4146  \t127.78 \t3.18469\t85.7371 \t128.27 \n",
      "54 \t4147  \t127.764\t3.09591\t91.0147 \t128.27 \n",
      "55 \t4169  \t127.814\t3.02004\t91.013  \t128.27 \n",
      "56 \t4177  \t127.685\t3.47724\t85.6969 \t128.27 \n",
      "57 \t4205  \t127.876\t2.81161\t81.746  \t128.27 \n",
      "58 \t4194  \t127.774\t3.13019\t85.7154 \t128.27 \n",
      "59 \t4118  \t127.797\t3.09584\t85.7107 \t128.27 \n",
      "60 \t4207  \t127.772\t3.16018\t90.784  \t128.27 \n",
      "61 \t4152  \t127.818\t3.01132\t78.5357 \t128.27 \n",
      "62 \t4184  \t127.741\t3.19493\t84.8548 \t128.27 \n",
      "63 \t4192  \t127.793\t3.08773\t85.7086 \t128.27 \n",
      "64 \t4073  \t127.828\t3.07951\t77.0766 \t128.27 \n",
      "65 \t4219  \t127.755\t3.25859\t85.7217 \t128.27 \n",
      "66 \t4062  \t127.795\t3.07782\t78.6383 \t128.27 \n",
      "67 \t4122  \t127.756\t3.23927\t84.846  \t128.27 \n",
      "68 \t4227  \t127.861\t2.77867\t81.7421 \t128.27 \n",
      "69 \t4122  \t127.674\t3.45199\t85.732  \t128.27 \n",
      "70 \t4180  \t127.808\t3.09569\t69.7748 \t128.27 \n",
      "71 \t4150  \t127.816\t2.92262\t91.0249 \t128.27 \n",
      "72 \t4193  \t127.731\t3.37858\t69.6798 \t128.27 \n",
      "73 \t4210  \t127.746\t3.24935\t91.0401 \t128.27 \n",
      "74 \t4168  \t127.82 \t2.88223\t91.0427 \t128.27 \n",
      "75 \t4188  \t127.839\t2.85667\t85.686  \t128.27 \n",
      "76 \t4127  \t127.797\t3.02342\t77.0638 \t128.27 \n",
      "77 \t4131  \t127.724\t3.3603 \t78.5952 \t128.27 \n",
      "78 \t4173  \t127.761\t3.10071\t91.0034 \t128.27 \n",
      "79 \t4246  \t127.785\t3.09869\t82.773  \t128.27 \n",
      "80 \t4193  \t127.809\t3.05891\t68.6824 \t128.27 \n",
      "81 \t4190  \t127.832\t2.98767\t85.7369 \t128.27 \n",
      "82 \t4164  \t127.683\t3.33597\t83.5746 \t128.27 \n",
      "83 \t4096  \t127.808\t3.00069\t84.8285 \t128.27 \n",
      "84 \t4172  \t127.772\t3.13256\t82.78   \t128.27 \n",
      "85 \t4272  \t127.778\t3.03365\t91.0506 \t128.27 \n",
      "86 \t4163  \t127.751\t3.22913\t81.7288 \t128.27 \n",
      "87 \t4200  \t127.8  \t3.04715\t85.6937 \t128.27 \n",
      "88 \t4202  \t127.754\t3.16147\t85.7132 \t128.27 \n",
      "89 \t4187  \t127.779\t3.16779\t68.6952 \t128.27 \n",
      "90 \t4207  \t127.783\t3.05679\t91.0575 \t128.27 \n",
      "91 \t4191  \t127.797\t3.12281\t85.6205 \t128.27 \n",
      "92 \t4237  \t127.794\t3.05862\t91.0105 \t128.27 \n",
      "93 \t4165  \t127.76 \t3.12604\t91.0041 \t128.27 \n",
      "94 \t4185  \t127.865\t2.79167\t91.0152 \t128.27 \n",
      "95 \t4091  \t127.732\t3.30685\t78.6478 \t128.27 \n",
      "96 \t4170  \t127.82 \t2.99557\t85.7377 \t128.27 \n",
      "97 \t4122  \t127.804\t3.13711\t84.8291 \t128.27 \n",
      "98 \t4175  \t127.812\t3.13662\t72.3801 \t128.27 \n",
      "99 \t4212  \t127.849\t2.87596\t91.0011 \t128.27 \n",
      "100\t4212  \t127.762\t3.23475\t77.0478 \t128.27 \n",
      "Elapsed time: 1012.93 seconds\n"
     ]
    },
    {
     "data": {
      "image/png": "[encoded data removed]",
      "text/plain": [
       "<Figure size 1100x400 with 1 Axes>"
      ]
     },
     "metadata": {},
     "output_type": "display_data"
    }
   ],
   "source": [
    "def main():\n",
    "    random.seed(5500)\n",
    "    population = toolbox.population(n=5500)\n",
    "    hof = tools.HallOfFame(1)\n",
    "\n",
    "    # Prepare containers for metrics\n",
    "    max_fitness_values = []\n",
    "    mean_fitness_values = []\n",
    "    std_dev_fitness_values = []\n",
    "\n",
    "    stats = tools.Statistics(lambda ind: ind.fitness.values)\n",
    "    stats.register(\"avg\", np.mean)\n",
    "    stats.register(\"std\", np.std)\n",
    "    stats.register(\"min\", np.min)\n",
    "    stats.register(\"max\", np.max)\n",
    "\n",
    "    # Execute the genetic algorithm\n",
    "    population, logbook = algorithms.eaSimple(population, toolbox, cxpb=0.7, mutpb=0.2, ngen=100,\n",
    "                                              stats=stats, halloffame=hof, verbose=True)\n",
    "\n",
    "    # Extracting performance data\n",
    "    max_fitness_values = logbook.select(\"max\")\n",
    "    mean_fitness_values = logbook.select(\"avg\")\n",
    "    std_dev_fitness_values = logbook.select(\"std\")\n",
    "\n",
    "    return population, logbook, hof, max_fitness_values, mean_fitness_values, std_dev_fitness_values\n",
    "\n",
    "\n",
    "if __name__ == \"__main__\":\n",
    "    start_time = time.time()\n",
    "    population, logbook, hof, max_fitness, mean_fitness, std_dev_fitness = main()\n",
    "    end_time = time.time()\n",
    "\n",
    "    print(f\"Elapsed time: {end_time - start_time:.2f} seconds\")\n",
    "\n",
    "    # Plotting the results\n",
    "    plt.figure(figsize=(11, 4))\n",
    "    generations = range(len(max_fitness))\n",
    "    plt.plot(generations, max_fitness, label=\"Max Fitness\")\n",
    "    plt.plot(generations, mean_fitness, label=\"Average Fitness\")\n",
    "    plt.fill_between(generations, np.subtract(mean_fitness, std_dev_fitness),\n",
    "                     np.add(mean_fitness, std_dev_fitness), color=\"m\", alpha=0.2, label=\"Std. Deviation\")\n",
    "    plt.xlabel(\"Generation\")\n",
    "    plt.ylabel(\"Fitness\")\n",
    "    plt.title(\"Fitness over Generations\")\n",
    "    plt.legend()\n",
    "    plt.show();"
   ]
  },
  {
   "cell_type": "code",
   "execution_count": 39,
   "metadata": {
    "colab": {
     "base_uri": "https://localhost:8080/",
     "height": 730
    },
    "id": "g74L3hx1XK9Z",
    "outputId": "17c7ad7d-bd2f-4d69-de0b-a509c99bae41"
   },
   "outputs": [
    {
     "data": {
      "text/html": [
       "<div>\n",
       "<style scoped>\n",
       "    .dataframe tbody tr th:only-of-type {\n",
       "        vertical-align: middle;\n",
       "    }\n",
       "\n",
       "    .dataframe tbody tr th {\n",
       "        vertical-align: top;\n",
       "    }\n",
       "\n",
       "    .dataframe thead th {\n",
       "        text-align: right;\n",
       "    }\n",
       "</style>\n",
       "<table border=\"1\" class=\"dataframe\">\n",
       "  <thead>\n",
       "    <tr style=\"text-align: right;\">\n",
       "      <th></th>\n",
       "      <th>bookID</th>\n",
       "      <th>title</th>\n",
       "      <th>authors</th>\n",
       "      <th>average_rating</th>\n",
       "      <th>isbn</th>\n",
       "      <th>isbn13</th>\n",
       "      <th>language_code</th>\n",
       "      <th>num_pages</th>\n",
       "      <th>ratings_count</th>\n",
       "      <th>text_reviews_count</th>\n",
       "      <th>publication_date</th>\n",
       "      <th>publisher</th>\n",
       "      <th>language_encoded</th>\n",
       "    </tr>\n",
       "  </thead>\n",
       "  <tbody>\n",
       "    <tr>\n",
       "      <th>10884</th>\n",
       "      <td>44513</td>\n",
       "      <td>The Roald Dahl Omnibus: Perfect Bedtime Storie...</td>\n",
       "      <td>Roald Dahl</td>\n",
       "      <td>1.046830</td>\n",
       "      <td>0880291230</td>\n",
       "      <td>9.78088E+12</td>\n",
       "      <td>eng</td>\n",
       "      <td>681</td>\n",
       "      <td>-0.139236</td>\n",
       "      <td>-0.144354</td>\n",
       "      <td>6/13/1993</td>\n",
       "      <td>Barnes &amp; Noble</td>\n",
       "      <td>9</td>\n",
       "    </tr>\n",
       "    <tr>\n",
       "      <th>4444</th>\n",
       "      <td>15975</td>\n",
       "      <td>Blonde</td>\n",
       "      <td>Joyce Carol Oates/Claude Seban</td>\n",
       "      <td>-0.802071</td>\n",
       "      <td>2253152854</td>\n",
       "      <td>9.78225E+12</td>\n",
       "      <td>fre</td>\n",
       "      <td>1110</td>\n",
       "      <td>-0.098098</td>\n",
       "      <td>-0.007711</td>\n",
       "      <td>4/30/2002</td>\n",
       "      <td>Le Livre de Poche</td>\n",
       "      <td>11</td>\n",
       "    </tr>\n",
       "    <tr>\n",
       "      <th>10705</th>\n",
       "      <td>43650</td>\n",
       "      <td>Something Borrowed</td>\n",
       "      <td>Rebecca Hagan Lee</td>\n",
       "      <td>1.046830</td>\n",
       "      <td>0786500735</td>\n",
       "      <td>9.78079E+12</td>\n",
       "      <td>eng</td>\n",
       "      <td>282</td>\n",
       "      <td>-0.159134</td>\n",
       "      <td>-0.209958</td>\n",
       "      <td>2/1/1995</td>\n",
       "      <td>Diamond/Charter</td>\n",
       "      <td>9</td>\n",
       "    </tr>\n",
       "    <tr>\n",
       "      <th>5974</th>\n",
       "      <td>22406</td>\n",
       "      <td>The Invisibles  Vol. 6: Kissing Mister Quimper</td>\n",
       "      <td>Grant Morrison/Chris Weston/Ivan Reis</td>\n",
       "      <td>1.046830</td>\n",
       "      <td>1563896001</td>\n",
       "      <td>9.78156E+12</td>\n",
       "      <td>en-US</td>\n",
       "      <td>224</td>\n",
       "      <td>-0.125224</td>\n",
       "      <td>-0.185890</td>\n",
       "      <td>2/1/2000</td>\n",
       "      <td>DC Comics Vertigo</td>\n",
       "      <td>8</td>\n",
       "    </tr>\n",
       "    <tr>\n",
       "      <th>1616</th>\n",
       "      <td>5558</td>\n",
       "      <td>iWoz</td>\n",
       "      <td>Steve Wozniak/Gina Smith</td>\n",
       "      <td>-0.802071</td>\n",
       "      <td>0393061434</td>\n",
       "      <td>9.78039E+12</td>\n",
       "      <td>en-GB</td>\n",
       "      <td>313</td>\n",
       "      <td>-0.128034</td>\n",
       "      <td>-0.064775</td>\n",
       "      <td>9/17/2006</td>\n",
       "      <td>W. W. Norton  Company</td>\n",
       "      <td>7</td>\n",
       "    </tr>\n",
       "    <tr>\n",
       "      <th>...</th>\n",
       "      <td>...</td>\n",
       "      <td>...</td>\n",
       "      <td>...</td>\n",
       "      <td>...</td>\n",
       "      <td>...</td>\n",
       "      <td>...</td>\n",
       "      <td>...</td>\n",
       "      <td>...</td>\n",
       "      <td>...</td>\n",
       "      <td>...</td>\n",
       "      <td>...</td>\n",
       "      <td>...</td>\n",
       "      <td>...</td>\n",
       "    </tr>\n",
       "    <tr>\n",
       "      <th>4233</th>\n",
       "      <td>15154</td>\n",
       "      <td>The Collectors (Camel Club  #2)</td>\n",
       "      <td>David Baldacci</td>\n",
       "      <td>1.046830</td>\n",
       "      <td>044653109X</td>\n",
       "      <td>9.78045E+12</td>\n",
       "      <td>en-US</td>\n",
       "      <td>438</td>\n",
       "      <td>0.146927</td>\n",
       "      <td>0.337001</td>\n",
       "      <td>10/18/2006</td>\n",
       "      <td>Warner Books</td>\n",
       "      <td>8</td>\n",
       "    </tr>\n",
       "    <tr>\n",
       "      <th>10343</th>\n",
       "      <td>41890</td>\n",
       "      <td>Who Wants a Cheap Rhinoceros?</td>\n",
       "      <td>Shel Silverstein</td>\n",
       "      <td>-0.802071</td>\n",
       "      <td>0689851138</td>\n",
       "      <td>9.78069E+12</td>\n",
       "      <td>eng</td>\n",
       "      <td>64</td>\n",
       "      <td>-0.142517</td>\n",
       "      <td>-0.162211</td>\n",
       "      <td>8/1/2002</td>\n",
       "      <td>Simon  Schuster Books for Young Readers</td>\n",
       "      <td>9</td>\n",
       "    </tr>\n",
       "    <tr>\n",
       "      <th>9793</th>\n",
       "      <td>39266</td>\n",
       "      <td>Captain Slaughterboard Drops Anchor</td>\n",
       "      <td>Mervyn Peake</td>\n",
       "      <td>1.046830</td>\n",
       "      <td>0763616257</td>\n",
       "      <td>9.78076E+12</td>\n",
       "      <td>en-US</td>\n",
       "      <td>48</td>\n",
       "      <td>-0.158005</td>\n",
       "      <td>-0.203747</td>\n",
       "      <td>12/31/2001</td>\n",
       "      <td>Candlewick Press (MA)</td>\n",
       "      <td>8</td>\n",
       "    </tr>\n",
       "    <tr>\n",
       "      <th>4871</th>\n",
       "      <td>17600</td>\n",
       "      <td>Homemade Love</td>\n",
       "      <td>bell hooks/Shane W. Evans</td>\n",
       "      <td>1.046830</td>\n",
       "      <td>0786806435</td>\n",
       "      <td>9.78079E+12</td>\n",
       "      <td>eng</td>\n",
       "      <td>32</td>\n",
       "      <td>-0.157498</td>\n",
       "      <td>-0.197536</td>\n",
       "      <td>12/23/2002</td>\n",
       "      <td>Jump At The Sun</td>\n",
       "      <td>9</td>\n",
       "    </tr>\n",
       "    <tr>\n",
       "      <th>6481</th>\n",
       "      <td>24414</td>\n",
       "      <td>The Circle (Dan Lenson  #3)</td>\n",
       "      <td>David Poyer</td>\n",
       "      <td>1.046830</td>\n",
       "      <td>0312929641</td>\n",
       "      <td>9.78031E+12</td>\n",
       "      <td>en-US</td>\n",
       "      <td>543</td>\n",
       "      <td>-0.156324</td>\n",
       "      <td>-0.207241</td>\n",
       "      <td>6/15/1993</td>\n",
       "      <td>St. Martin's Paperbacks</td>\n",
       "      <td>8</td>\n",
       "    </tr>\n",
       "  </tbody>\n",
       "</table>\n",
       "<p>5500 rows × 13 columns</p>\n",
       "</div>"
      ],
      "text/plain": [
       "       bookID                                              title  \\\n",
       "10884   44513  The Roald Dahl Omnibus: Perfect Bedtime Storie...   \n",
       "4444    15975                                             Blonde   \n",
       "10705   43650                                 Something Borrowed   \n",
       "5974    22406     The Invisibles  Vol. 6: Kissing Mister Quimper   \n",
       "1616     5558                                               iWoz   \n",
       "...       ...                                                ...   \n",
       "4233    15154                    The Collectors (Camel Club  #2)   \n",
       "10343   41890                      Who Wants a Cheap Rhinoceros?   \n",
       "9793    39266                Captain Slaughterboard Drops Anchor   \n",
       "4871    17600                                      Homemade Love   \n",
       "6481    24414                        The Circle (Dan Lenson  #3)   \n",
       "\n",
       "                                     authors  average_rating        isbn  \\\n",
       "10884                             Roald Dahl        1.046830  0880291230   \n",
       "4444          Joyce Carol Oates/Claude Seban       -0.802071  2253152854   \n",
       "10705                      Rebecca Hagan Lee        1.046830  0786500735   \n",
       "5974   Grant Morrison/Chris Weston/Ivan Reis        1.046830  1563896001   \n",
       "1616                Steve Wozniak/Gina Smith       -0.802071  0393061434   \n",
       "...                                      ...             ...         ...   \n",
       "4233                          David Baldacci        1.046830  044653109X   \n",
       "10343                       Shel Silverstein       -0.802071  0689851138   \n",
       "9793                            Mervyn Peake        1.046830  0763616257   \n",
       "4871               bell hooks/Shane W. Evans        1.046830  0786806435   \n",
       "6481                             David Poyer        1.046830  0312929641   \n",
       "\n",
       "            isbn13 language_code  num_pages  ratings_count  \\\n",
       "10884  9.78088E+12           eng        681      -0.139236   \n",
       "4444   9.78225E+12           fre       1110      -0.098098   \n",
       "10705  9.78079E+12           eng        282      -0.159134   \n",
       "5974   9.78156E+12         en-US        224      -0.125224   \n",
       "1616   9.78039E+12         en-GB        313      -0.128034   \n",
       "...            ...           ...        ...            ...   \n",
       "4233   9.78045E+12         en-US        438       0.146927   \n",
       "10343  9.78069E+12           eng         64      -0.142517   \n",
       "9793   9.78076E+12         en-US         48      -0.158005   \n",
       "4871   9.78079E+12           eng         32      -0.157498   \n",
       "6481   9.78031E+12         en-US        543      -0.156324   \n",
       "\n",
       "       text_reviews_count publication_date  \\\n",
       "10884           -0.144354        6/13/1993   \n",
       "4444            -0.007711        4/30/2002   \n",
       "10705           -0.209958         2/1/1995   \n",
       "5974            -0.185890         2/1/2000   \n",
       "1616            -0.064775        9/17/2006   \n",
       "...                   ...              ...   \n",
       "4233             0.337001       10/18/2006   \n",
       "10343           -0.162211         8/1/2002   \n",
       "9793            -0.203747       12/31/2001   \n",
       "4871            -0.197536       12/23/2002   \n",
       "6481            -0.207241        6/15/1993   \n",
       "\n",
       "                                     publisher  language_encoded  \n",
       "10884                           Barnes & Noble                 9  \n",
       "4444                         Le Livre de Poche                11  \n",
       "10705                          Diamond/Charter                 9  \n",
       "5974                         DC Comics Vertigo                 8  \n",
       "1616                     W. W. Norton  Company                 7  \n",
       "...                                        ...               ...  \n",
       "4233                              Warner Books                 8  \n",
       "10343  Simon  Schuster Books for Young Readers                 9  \n",
       "9793                     Candlewick Press (MA)                 8  \n",
       "4871                           Jump At The Sun                 9  \n",
       "6481                   St. Martin's Paperbacks                 8  \n",
       "\n",
       "[5500 rows x 13 columns]"
      ]
     },
     "execution_count": 39,
     "metadata": {},
     "output_type": "execute_result"
    }
   ],
   "source": [
    "target_books"
   ]
  },
  {
   "cell_type": "code",
   "execution_count": 40,
   "metadata": {
    "colab": {
     "base_uri": "https://localhost:8080/",
     "height": 240
    },
    "id": "JxOrCwvHXQNn",
    "outputId": "530a8c9f-48fd-40ed-8dae-aef246d47e0f"
   },
   "outputs": [
    {
     "name": "stdout",
     "output_type": "stream",
     "text": [
      "Recommended Books:\n"
     ]
    },
    {
     "data": {
      "text/html": [
       "<div>\n",
       "<style scoped>\n",
       "    .dataframe tbody tr th:only-of-type {\n",
       "        vertical-align: middle;\n",
       "    }\n",
       "\n",
       "    .dataframe tbody tr th {\n",
       "        vertical-align: top;\n",
       "    }\n",
       "\n",
       "    .dataframe thead th {\n",
       "        text-align: right;\n",
       "    }\n",
       "</style>\n",
       "<table border=\"1\" class=\"dataframe\">\n",
       "  <thead>\n",
       "    <tr style=\"text-align: right;\">\n",
       "      <th></th>\n",
       "      <th>bookID</th>\n",
       "      <th>title</th>\n",
       "      <th>authors</th>\n",
       "      <th>average_rating</th>\n",
       "      <th>isbn</th>\n",
       "      <th>isbn13</th>\n",
       "      <th>language_code</th>\n",
       "      <th>num_pages</th>\n",
       "      <th>ratings_count</th>\n",
       "      <th>text_reviews_count</th>\n",
       "      <th>publication_date</th>\n",
       "      <th>publisher</th>\n",
       "      <th>language_encoded</th>\n",
       "    </tr>\n",
       "  </thead>\n",
       "  <tbody>\n",
       "    <tr>\n",
       "      <th>2533</th>\n",
       "      <td>9338</td>\n",
       "      <td>Insights: Talks On The Nature Of Existence</td>\n",
       "      <td>Frederick P. Lenz</td>\n",
       "      <td>-6.348772</td>\n",
       "      <td>1932206086</td>\n",
       "      <td>9.78193E+12</td>\n",
       "      <td>eng</td>\n",
       "      <td>304</td>\n",
       "      <td>-0.159472</td>\n",
       "      <td>-0.210346</td>\n",
       "      <td>1/1/2003</td>\n",
       "      <td>Frederick P. Lenz Foundation for American Budd...</td>\n",
       "      <td>9</td>\n",
       "    </tr>\n",
       "    <tr>\n",
       "      <th>2758</th>\n",
       "      <td>10200</td>\n",
       "      <td>Venac sonetnih venaca; PuzÌŒeva srma</td>\n",
       "      <td>Dobrica EriÄ‡</td>\n",
       "      <td>-6.348772</td>\n",
       "      <td>8644101277</td>\n",
       "      <td>9.78864E+12</td>\n",
       "      <td>srp</td>\n",
       "      <td>222</td>\n",
       "      <td>-0.159472</td>\n",
       "      <td>-0.210346</td>\n",
       "      <td>1/1/1996</td>\n",
       "      <td>IzdavaÄka agencija \"DraganicÌ\"</td>\n",
       "      <td>26</td>\n",
       "    </tr>\n",
       "    <tr>\n",
       "      <th>7147</th>\n",
       "      <td>27416</td>\n",
       "      <td>Mythographi Graeci 1: Apollodori Bibliotheca  ...</td>\n",
       "      <td>Apollodorus/Richard Wagner</td>\n",
       "      <td>-6.348772</td>\n",
       "      <td>3598715439</td>\n",
       "      <td>9.7836E+12</td>\n",
       "      <td>grc</td>\n",
       "      <td>335</td>\n",
       "      <td>-0.159472</td>\n",
       "      <td>-0.210346</td>\n",
       "      <td>7/15/1998</td>\n",
       "      <td>K.G. Saur Verlag</td>\n",
       "      <td>15</td>\n",
       "    </tr>\n",
       "    <tr>\n",
       "      <th>7402</th>\n",
       "      <td>28467</td>\n",
       "      <td>Sclerotherapy and vein treatment</td>\n",
       "      <td>Robert A. Weiss/Margaret A. Weiss/Karen L. Bea...</td>\n",
       "      <td>-6.348772</td>\n",
       "      <td>0071485422</td>\n",
       "      <td>9.78007E+12</td>\n",
       "      <td>eng</td>\n",
       "      <td>248</td>\n",
       "      <td>-0.159472</td>\n",
       "      <td>-0.210346</td>\n",
       "      <td>12/30/2011</td>\n",
       "      <td>McGraw-Hill Professional Publishing</td>\n",
       "      <td>9</td>\n",
       "    </tr>\n",
       "    <tr>\n",
       "      <th>7800</th>\n",
       "      <td>30080</td>\n",
       "      <td>Beckett Football Card Price Guide</td>\n",
       "      <td>Dan Hitt/James Beckett III</td>\n",
       "      <td>-6.348772</td>\n",
       "      <td>1930692471</td>\n",
       "      <td>9.78193E+12</td>\n",
       "      <td>eng</td>\n",
       "      <td>830</td>\n",
       "      <td>-0.159472</td>\n",
       "      <td>-0.210346</td>\n",
       "      <td>9/1/2006</td>\n",
       "      <td>Beckett Media</td>\n",
       "      <td>9</td>\n",
       "    </tr>\n",
       "    <tr>\n",
       "      <th>9441</th>\n",
       "      <td>37467</td>\n",
       "      <td>Classroom Interactions as Cross-Cultural Encou...</td>\n",
       "      <td>Jasmine C.M. Luk/Angel M.Y. Lin</td>\n",
       "      <td>-6.348772</td>\n",
       "      <td>0805850848</td>\n",
       "      <td>9.78081E+12</td>\n",
       "      <td>eng</td>\n",
       "      <td>241</td>\n",
       "      <td>-0.159472</td>\n",
       "      <td>-0.210346</td>\n",
       "      <td>8/5/2006</td>\n",
       "      <td>Routledge</td>\n",
       "      <td>9</td>\n",
       "    </tr>\n",
       "    <tr>\n",
       "      <th>10501</th>\n",
       "      <td>42758</td>\n",
       "      <td>The Fantastic Vampire: Studies in the Children...</td>\n",
       "      <td>James Craig Holte</td>\n",
       "      <td>-6.348772</td>\n",
       "      <td>0313309337</td>\n",
       "      <td>9.78031E+12</td>\n",
       "      <td>eng</td>\n",
       "      <td>176</td>\n",
       "      <td>-0.159472</td>\n",
       "      <td>-0.210346</td>\n",
       "      <td>3/30/2002</td>\n",
       "      <td>Greenwood Press</td>\n",
       "      <td>9</td>\n",
       "    </tr>\n",
       "  </tbody>\n",
       "</table>\n",
       "</div>"
      ],
      "text/plain": [
       "       bookID                                              title  \\\n",
       "2533     9338         Insights: Talks On The Nature Of Existence   \n",
       "2758    10200               Venac sonetnih venaca; PuzÌŒeva srma   \n",
       "7147    27416  Mythographi Graeci 1: Apollodori Bibliotheca  ...   \n",
       "7402    28467                   Sclerotherapy and vein treatment   \n",
       "7800    30080                  Beckett Football Card Price Guide   \n",
       "9441    37467  Classroom Interactions as Cross-Cultural Encou...   \n",
       "10501   42758  The Fantastic Vampire: Studies in the Children...   \n",
       "\n",
       "                                                 authors  average_rating  \\\n",
       "2533                                   Frederick P. Lenz       -6.348772   \n",
       "2758                                       Dobrica EriÄ‡       -6.348772   \n",
       "7147                          Apollodorus/Richard Wagner       -6.348772   \n",
       "7402   Robert A. Weiss/Margaret A. Weiss/Karen L. Bea...       -6.348772   \n",
       "7800                          Dan Hitt/James Beckett III       -6.348772   \n",
       "9441                     Jasmine C.M. Luk/Angel M.Y. Lin       -6.348772   \n",
       "10501                                  James Craig Holte       -6.348772   \n",
       "\n",
       "             isbn       isbn13 language_code  num_pages  ratings_count  \\\n",
       "2533   1932206086  9.78193E+12           eng        304      -0.159472   \n",
       "2758   8644101277  9.78864E+12           srp        222      -0.159472   \n",
       "7147   3598715439   9.7836E+12           grc        335      -0.159472   \n",
       "7402   0071485422  9.78007E+12           eng        248      -0.159472   \n",
       "7800   1930692471  9.78193E+12           eng        830      -0.159472   \n",
       "9441   0805850848  9.78081E+12           eng        241      -0.159472   \n",
       "10501  0313309337  9.78031E+12           eng        176      -0.159472   \n",
       "\n",
       "       text_reviews_count publication_date  \\\n",
       "2533            -0.210346         1/1/2003   \n",
       "2758            -0.210346         1/1/1996   \n",
       "7147            -0.210346        7/15/1998   \n",
       "7402            -0.210346       12/30/2011   \n",
       "7800            -0.210346         9/1/2006   \n",
       "9441            -0.210346         8/5/2006   \n",
       "10501           -0.210346        3/30/2002   \n",
       "\n",
       "                                               publisher  language_encoded  \n",
       "2533   Frederick P. Lenz Foundation for American Budd...                 9  \n",
       "2758                    IzdavaÄka agencija \"DraganicÌ\"                26  \n",
       "7147                                    K.G. Saur Verlag                15  \n",
       "7402                 McGraw-Hill Professional Publishing                 9  \n",
       "7800                                       Beckett Media                 9  \n",
       "9441                                           Routledge                 9  \n",
       "10501                                    Greenwood Press                 9  "
      ]
     },
     "execution_count": 40,
     "metadata": {},
     "output_type": "execute_result"
    }
   ],
   "source": [
    "# hof contains the best individual\n",
    "best_individual = hof[0]\n",
    "\n",
    "# Extract book IDs from the best individual\n",
    "recommended_book_ids = best_individual\n",
    "\n",
    "# Retrieve book details from the dataset\n",
    "recommended_books = df[df['bookID'].isin(recommended_book_ids)]\n",
    "\n",
    "# Display the recommended books\n",
    "print(\"Recommended Books:\")\n",
    "recommended_books"
   ]
  },
  {
   "cell_type": "code",
   "execution_count": 41,
   "metadata": {
    "colab": {
     "base_uri": "https://localhost:8080/",
     "height": 468
    },
    "id": "KzCSzV7f-0ST",
    "outputId": "17d47783-4bfb-4650-9f7d-9e501d085ede"
   },
   "outputs": [
    {
     "data": {
      "image/png": "[encoded data removed]",
      "text/plain": [
       "<Figure size 800x500 with 1 Axes>"
      ]
     },
     "metadata": {},
     "output_type": "display_data"
    }
   ],
   "source": [
    "# Assuming max_fitness is the data from your GA\n",
    "initial_fitness = max_fitness[0]\n",
    "final_fitness = max_fitness[-1]\n",
    "\n",
    "metrics = ['Initial Fitness', 'Final Fitness']\n",
    "scores = [initial_fitness, final_fitness]\n",
    "\n",
    "plt.figure(figsize=(8, 5))\n",
    "plt.bar(metrics, scores, color=['blue', 'green'])\n",
    "plt.title('Initial vs Final Fitness Comparison')\n",
    "plt.ylabel('Fitness Score')\n",
    "plt.show();"
   ]
  },
  {
   "cell_type": "code",
   "execution_count": 42,
   "metadata": {},
   "outputs": [
    {
     "name": "stdout",
     "output_type": "stream",
     "text": [
      "Evaluation Results: {'Objective Function': -6.348771706238737, 'Diversity Score': 7, 'Coverage': 0.0006291003864473802}\n"
     ]
    }
   ],
   "source": [
    "def objective_function(recommended_books):\n",
    "    \n",
    "    return recommended_books['average_rating'].mean()\n",
    "\n",
    "\n",
    "def diversity_metric(recommended_books):\n",
    "    \n",
    "    return recommended_books['authors'].nunique() \n",
    "\n",
    "\n",
    "def coverage_metric(recommended_books, total_books):\n",
    "   \n",
    "    return len(recommended_books) / len(total_books)\n",
    "\n",
    "\n",
    "def evaluate_ga_solution(recommended_book_ids, df):\n",
    "    recommended_books = df[df['bookID'].isin(recommended_book_ids)]\n",
    "    objective_value = objective_function(recommended_books)\n",
    "    diversity_value = diversity_metric(recommended_books)\n",
    "    coverage_value = coverage_metric(recommended_books, df)\n",
    "\n",
    "    evaluation_results = {\n",
    "        'Objective Function': objective_value,\n",
    "        'Diversity Score': diversity_value,\n",
    "        'Coverage': coverage_value\n",
    "    }\n",
    "    \n",
    "    return evaluation_results\n",
    "\n",
    "best_individual = recommended_book_ids  # example book IDs\n",
    "evaluation_results = evaluate_ga_solution(best_individual, df)\n",
    "print(\"Evaluation Results:\", evaluation_results)"
   ]
  },
  {
   "cell_type": "code",
   "execution_count": 43,
   "metadata": {},
   "outputs": [
    {
     "data": {
      "image/png": "[encoded data removed]",
      "text/plain": [
       "<Figure size 1000x500 with 1 Axes>"
      ]
     },
     "metadata": {},
     "output_type": "display_data"
    },
    {
     "data": {
      "image/png": "[encoded data removed]",
      "text/plain": [
       "<Figure size 1000x500 with 1 Axes>"
      ]
     },
     "metadata": {},
     "output_type": "display_data"
    }
   ],
   "source": [
    "import matplotlib.pyplot as plt\n",
    "\n",
    "def plot_fitness_scores(logbook):\n",
    "    \"\"\"Plot fitness statistics over generations from the GA logbook.\"\"\"\n",
    "    gen = logbook.select(\"gen\")\n",
    "    max_fit = logbook.select(\"max\")\n",
    "    avg_fit = logbook.select(\"avg\")\n",
    "    min_fit = logbook.select(\"min\")\n",
    "    \n",
    "    plt.figure(figsize=(10, 5))\n",
    "    plt.plot(gen, max_fit, label='Max Fitness')\n",
    "    plt.plot(gen, avg_fit, label='Average Fitness')\n",
    "    plt.plot(gen, min_fit, label='Min Fitness')\n",
    "    plt.xlabel('Generation')\n",
    "    plt.ylabel('Fitness')\n",
    "    plt.title('Fitness Evolution Over Generations')\n",
    "    plt.legend()\n",
    "    plt.grid(True)\n",
    "    plt.show()\n",
    "\n",
    "def measure_diversity(logbook):\n",
    "    \"\"\"Measure and plot the diversity of fitness scores as standard deviation over generations.\"\"\"\n",
    "    gen = logbook.select(\"gen\")\n",
    "    std_dev = logbook.select(\"std\")\n",
    "    \n",
    "    plt.figure(figsize=(10, 5))\n",
    "    plt.plot(gen, std_dev, label='Standard Deviation of Fitness')\n",
    "    plt.xlabel('Generation')\n",
    "    plt.ylabel('Standard Deviation')\n",
    "    plt.title('Diversity of Fitness Scores Over Generations')\n",
    "    plt.legend()\n",
    "    plt.grid(True)\n",
    "    plt.show()\n",
    "\n",
    "# Example usage: Assuming 'logbook' is obtained from the GA execution\n",
    "plot_fitness_scores(logbook)\n",
    "measure_diversity(logbook)"
   ]
  },
  {
   "cell_type": "code",
   "execution_count": 44,
   "metadata": {},
   "outputs": [
    {
     "name": "stderr",
     "output_type": "stream",
     "text": [
      "C:\\Users\\PC\\anaconda3\\lib\\site-packages\\deap\\creator.py:185: RuntimeWarning: A class named 'FitnessMax' has already been created and it will be overwritten. Consider deleting previous creation of that class or rename it.\n",
      "  warnings.warn(\"A class named '{0}' has already been created and it \"\n",
      "C:\\Users\\PC\\anaconda3\\lib\\site-packages\\deap\\creator.py:185: RuntimeWarning: A class named 'Individual' has already been created and it will be overwritten. Consider deleting previous creation of that class or rename it.\n",
      "  warnings.warn(\"A class named '{0}' has already been created and it \"\n"
     ]
    },
    {
     "data": {
      "image/png": "[encoded data removed]",
      "text/plain": [
       "<Figure size 2400x1100 with 1 Axes>"
      ]
     },
     "metadata": {},
     "output_type": "display_data"
    }
   ],
   "source": [
    "# Define the individual and the fitness function\n",
    "creator.create(\"FitnessMax\", base.Fitness, weights=(1.0,))\n",
    "creator.create(\"Individual\", list, fitness=creator.FitnessMax)\n",
    "\n",
    "def setup_toolbox(ind_size=10, mut_rate=0.2, cx_rate=0.5):\n",
    "    toolbox = base.Toolbox()\n",
    "    toolbox.register(\"attribute\", random.random)\n",
    "    toolbox.register(\"individual\", tools.initRepeat, creator.Individual, toolbox.attribute, n=ind_size)\n",
    "    toolbox.register(\"population\", tools.initRepeat, list, toolbox.individual)\n",
    "\n",
    "    # Simple evaluation function to maximize the sum of elements\n",
    "    def evaluate(individual):\n",
    "        return (sum(individual),)\n",
    "\n",
    "    toolbox.register(\"evaluate\", evaluate)\n",
    "    toolbox.register(\"mate\", tools.cxTwoPoint)\n",
    "    toolbox.register(\"mutate\", tools.mutGaussian, mu=0, sigma=1, indpb=mut_rate)\n",
    "    toolbox.register(\"select\", tools.selTournament, tournsize=3)\n",
    "    \n",
    "    return toolbox\n",
    "\n",
    "def run_ga(pop_size, ind_size, cx_rate, mut_rate, ngen=50):\n",
    "    toolbox = setup_toolbox(ind_size=ind_size, mut_rate=mut_rate, cx_rate=cx_rate)\n",
    "    pop = toolbox.population(n=pop_size)\n",
    "    hof = tools.HallOfFame(1)\n",
    "    \n",
    "    stats = tools.Statistics(lambda ind: ind.fitness.values)\n",
    "    stats.register(\"avg\", np.mean)\n",
    "    stats.register(\"std\", np.std)\n",
    "    stats.register(\"min\", np.min)\n",
    "    stats.register(\"max\", np.max)\n",
    "    \n",
    "    pop, log = algorithms.eaSimple(pop, toolbox, cxpb=cx_rate, mutpb=mut_rate, ngen=ngen, stats=stats, halloffame=hof, verbose=False)\n",
    "    return log.select(\"max\")\n",
    "\n",
    "# Sensitivity Analysis\n",
    "def sensitivity_analysis():\n",
    "    mutation_rates = [0.01, 0.1, 0.2, 0.5]\n",
    "    crossover_rates = [0.1, 0.5, 0.7, 0.9]\n",
    "    population_sizes = [50, 100, 200, 300]\n",
    "    generations = 100\n",
    "    \n",
    "    results = {}\n",
    "\n",
    "    for mut_rate in mutation_rates:\n",
    "        for cx_rate in crossover_rates:\n",
    "            for pop_size in population_sizes:\n",
    "                max_fitness = run_ga(pop_size=pop_size, ind_size=10, cx_rate=cx_rate, mut_rate=mut_rate, ngen=generations)\n",
    "                key = f\"MR_{mut_rate}_CR_{cx_rate}_PS_{pop_size}\"\n",
    "                results[key] = max_fitness[-1]  # Store the last generation's max fitness\n",
    "    \n",
    "    # Plotting the results\n",
    "    labels, values = zip(*results.items())\n",
    "    indexes = np.arange(len(labels))\n",
    "    plt.figure(figsize=(24, 11))\n",
    "    plt.bar(indexes, values, align='center')\n",
    "    plt.xticks(indexes, labels, rotation='vertical')\n",
    "    plt.ylabel('Max Fitness')\n",
    "    plt.xlabel('Parameter Settings')\n",
    "    plt.title('Sensitivity Analysis of GA Parameters')\n",
    "    plt.show()\n",
    "\n",
    "# Execute sensitivity analysis\n",
    "sensitivity_analysis()"
   ]
  },
  {
   "cell_type": "markdown",
   "metadata": {},
   "source": [
    "## `Interpretation of results`"
   ]
  },
  {
   "cell_type": "markdown",
   "metadata": {
    "id": "4c7XPdtmO-_g"
   },
   "source": [
    "The fitness of the GA improves rapidly in the initial generations, which shows that the algorithm quickly finds better solutions. After around 20 generations, the fitness scores, including maximum, average, and even minimum, start to plateau, which suggests convergence. The shaded area, which represents standard deviation, narrows over time, indicating that the population is converging towards similar fitness scores. The GA effectively optimizes the objective function, but the convergence might also mean a loss of diversity in the solutions.\n",
    "\n",
    "The fitness score at the start of the GA is much lower than the fitness score at the end, showing a significant improvement through the evolutionary process. The graph demonstrates consistency in the maximum fitness achieved, which remains stable after initial improvements. The average fitness also stabilizes, with fluctuations that suggest there is still some variability in the population. The standard deviation of fitness scores spikes in the early generations but then declines rapidly, indicating that initial diversity was high but the population quickly converged to similar fitness values.\n",
    "\n",
    "The sensitivity analysis reveals that the GA's performance is highly dependent on the choice of parameters.\n",
    "A variety of parameter settings leads to different maximum fitness values, implying that certain combinations of mutation rate (MR), crossover rate (CR), and population size (PS) are more effective than others. The GA takes about 1012.93 seconds to complete 100 generations, which might be acceptable depending on the complexity of the problem and the computational resources available.\n",
    "\n",
    "**Evaluation Metrics:**\n",
    "\n",
    "The objective function is meant to encapsulate the goal of the GA—in this case, user satisfaction derived from book recommendations. It's expressed as the average rating of recommended books. The negative value here is atypical and suggests that the way satisfaction is being measured might need revisiting. Satisfaction is generally a positive metric, and negative values could imply that there's an inversion in the calculation, or perhaps the ratings data has negative values due to data processing errors. This needs to be corrected to ensure it accurately reflects user satisfaction with recommended books. Diversity is crucial in a recommendation system to ensure that users are exposed to a range of options. Here, the diversity score is measured by the number of unique authors in the set of recommended books. A score of 7 indicates that the recommendations include titles from seven different authors. This metric's value is context-dependent: if your total author pool is large, a score of 7 may indicate low diversity. Increasing this number would usually be preferable, particularly in a domain like book recommendations, where diversity can significantly enhance user experience. Coverage measures the extent to which the GA's recommendations span the available books. In this case, the coverage is quite low, suggesting that the recommendations represent a very small fraction of the total books. While it's often not practical to cover the entire catalogue, especially in large datasets, such a low value may indicate the recommendations are too narrow and may not adequately represent the variety available. To improve user experience, you might aim for higher coverage to ensure a broader representation of the book database in the recommendations."
   ]
  },
  {
   "cell_type": "markdown",
   "metadata": {
    "id": "Wumff35T145M"
   },
   "source": [
    "## `Conclusion`\n",
    "\n"
   ]
  },
  {
   "cell_type": "markdown",
   "metadata": {},
   "source": [
    "The genetic algorithm effectively refines book recommendations over time, demonstrating the utility of composite fitness functions in multidimensional optimization problems. By combining various similarity metrics, the GA provides a robust method for tailoring recommendations that are congruent with complex user profiles.\n",
    "\n",
    "The consistency of the fitness improvement and the nuanced selection of recommended books suggest that the GA has successfully captured the multi-faceted nature of user preferences. It also indicates that the fitness function is well-designed to balance the trade-offs between various user preference attributes.\n",
    "\n",
    "The resulting recommendations, while at times diverging from the average ratings, suggest a potential strategy to introduce the user to a broader range of literature, potentially expanding their reading horizons while still maintaining alignment with key preference factors such as language and book length."
   ]
  },
  {
   "cell_type": "markdown",
   "metadata": {},
   "source": [
    "## `References`\n",
    "\n",
    "[1] Genetic algorithm tutorial for Python: https://github.com/ezstoltz/genetic-algorithm\n",
    "\n",
    "[2] Feature Selection using Genetic Algorithm (DEAPFramework): https://github.com/kaushalshetty/FeatureSelectionGA\n",
    "\n",
    "[3] Genetic Algorithms with Python: https://github.com/handcraftsman/GeneticAlgorithmsWithPython"
   ]
  }
 ],
 "metadata": {
  "colab": {
   "provenance": []
  },
  "kernelspec": {
   "display_name": "Python 3 (ipykernel)",
   "language": "python",
   "name": "python3"
  },
  "language_info": {
   "codemirror_mode": {
    "name": "ipython",
    "version": 3
   },
   "file_extension": ".py",
   "mimetype": "text/x-python",
   "name": "python",
   "nbconvert_exporter": "python",
   "pygments_lexer": "ipython3",
   "version": "3.9.13"
  }
 },
 "nbformat": 4,
 "nbformat_minor": 1
}
